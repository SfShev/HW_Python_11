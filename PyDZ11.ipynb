{
 "cells": [
  {
   "cell_type": "markdown",
   "id": "d2c503a7-f712-4b08-a821-47c738d59360",
   "metadata": {},
   "source": [
    "# Дано: f(x) = -12x^4*sin(cos(x)) - 18x^3+5x^2 + 10x - 30    "
   ]
  },
  {
   "cell_type": "code",
   "execution_count": 57,
   "id": "94d8ef01-94a4-4c58-9115-e2e351ac6b7d",
   "metadata": {},
   "outputs": [],
   "source": [
    "# Импортируем необходимое:\n",
    "import numpy as np\n",
    "import matplotlib.pyplot as plt\n",
    "from sympy import sin, cos, Symbol, diff\n",
    "\n",
    "# Необходимые функции:\n",
    "\n",
    "# Поиск корней методом дихотомии на отрезке [a, b]: \n",
    "def roots_search(function, a, b, eps):\n",
    "    while (b - a > eps):\n",
    "        c = (a + b) / 2\n",
    "        if f(b) * f(c) < 0:\n",
    "            a = c\n",
    "        else:\n",
    "            b = c\n",
    "    \n",
    "    return (a + b) / 2\n",
    "\n",
    "# Определяем функцию:\n",
    "x = Symbol('x')\n",
    "def f(x):\n",
    "    return -12*(x**4)*sin(cos(x)) - 18*(x**3) + 5*(x**2) + 10*x - 30"
   ]
  },
  {
   "cell_type": "markdown",
   "id": "294dcfd2-b772-421c-acb9-d50a750e0b46",
   "metadata": {},
   "source": [
    "## 1. Построить график функции  \n",
    "### Строим график функции для отрезка [30, 40]"
   ]
  },
  {
   "cell_type": "code",
   "execution_count": 58,
   "id": "42bb2a8d-dd2c-49bc-b67c-08f81f0466fc",
   "metadata": {},
   "outputs": [
    {
     "data": {
      "image/png": "[encoded data removed]",
      "text/plain": [
       "<Figure size 1080x360 with 1 Axes>"
      ]
     },
     "metadata": {
      "needs_background": "light"
     },
     "output_type": "display_data"
    }
   ],
   "source": [
    "# 4. Построить график\n",
    "\n",
    "\n",
    "z = np.linspace(30, 40, 10000)\n",
    "f1 = lambda x: -12*x**4*np.sin(np.cos(z)) - 18*(x**3)+5*(x**2) + 10*x - 30\n",
    "\n",
    "fig, ax = plt.subplots(figsize = (15,5))\n",
    "\n",
    "plt.title('График')\n",
    "plt.xlabel('x')\n",
    "plt.ylabel('Y(x)')\n",
    "\n",
    "plt.plot(z, f1(z), label='Function')\n",
    "plt.legend(loc='upper center')\n",
    "plt.grid()\n",
    "\n",
    "plt.show()"
   ]
  },
  {
   "cell_type": "markdown",
   "id": "7e27049b-fc6f-463a-ad02-3e60e91010b9",
   "metadata": {
    "tags": []
   },
   "source": [
    "## 2. Определяем корни  \n",
    "### Видим, что существует 3 корня на интервалах [32, 34], [36, 37], [39, 40]"
   ]
  },
  {
   "cell_type": "code",
   "execution_count": 59,
   "id": "501f71bf-d1b3-4092-9bbb-8a57ce665ed2",
   "metadata": {},
   "outputs": [
    {
     "data": {
      "text/plain": [
       "[33.03176164627075, 36.0870623588562, 39.307804584503174]"
      ]
     },
     "execution_count": 59,
     "metadata": {},
     "output_type": "execute_result"
    }
   ],
   "source": [
    "# Находим корни на отрезке [30, 40]\n",
    "root_intervals = [[32, 34], [36, 37], [39, 40]]\n",
    "roots_list = [roots_search(f, i[0], i[1], 1e-6) for i in root_intervals]\n",
    "roots_list"
   ]
  },
  {
   "cell_type": "markdown",
   "id": "63cf3bef-5c3b-4dc6-83a6-cf29bba8e328",
   "metadata": {},
   "source": [
    "## 3. Определить промежутки, на котором f(x) > 0 и f(x) < 0"
   ]
  },
  {
   "cell_type": "code",
   "execution_count": 87,
   "id": "37241842-579b-42c0-83bc-5a1ab87b5442",
   "metadata": {},
   "outputs": [
    {
     "name": "stdout",
     "output_type": "stream",
     "text": [
      "f(x) > 0 на интервалах:\n",
      "[33.04, 36.07] [39.31, 39.98]\n",
      "f(x) < 0 на интервалах:\n",
      "[30.0, 33.02] [36.09, 39.29]\n"
     ]
    }
   ],
   "source": [
    "def neg_pos_func(func, a, b, eps):\n",
    "    '''\n",
    "    a - левая граница отрезка\n",
    "    b - правая граница отрезка\n",
    "    eps - погрешность type - int\n",
    "    '''\n",
    "\n",
    "    x = [x/eps for x in range(a*eps, b*eps + 1)]\n",
    "    y = [func(x) for x in x]\n",
    "\n",
    "    points = list(zip(x, y))\n",
    "    pos_f, neg_f = [], []\n",
    "    incr_flag = False\n",
    "    while len(points) >= 2:\n",
    "        count = 0\n",
    "        if incr_flag:\n",
    "            while points[count][0] < b and points[count][1] > 0:\n",
    "                count += 1\n",
    "            if count != 0:\n",
    "                pos_f.append([points[0][0], points[count - 2][0]])\n",
    "            incr_flag = False\n",
    "        else:\n",
    "            while points[count][0] < b and points[count][1] < 0:\n",
    "                count += 1\n",
    "            if count != 0:\n",
    "                neg_f.append([points[0][0], points[count - 2][0]])\n",
    "            incr_flag = True\n",
    "        del points[:count]\n",
    "\n",
    "    return [pos_f, neg_f]\n",
    "    \n",
    "res1 = neg_pos_func(f, 30, 40, 100)\n",
    "print('f(x) > 0 на интервалах:')\n",
    "print(*res1[0])\n",
    "print('f(x) < 0 на интервалах:')\n",
    "print(*res1[1])"
   ]
  },
  {
   "cell_type": "markdown",
   "id": "d5a378d2-3d0d-42fa-9472-b59d4c5dc486",
   "metadata": {},
   "source": [
    "## 4. Найти интервалы, на которых функция возрастает на отрезке и убывает [30, 40]"
   ]
  },
  {
   "cell_type": "markdown",
   "id": "e083f32f-c4c1-42c4-9090-ffb55c7aedb5",
   "metadata": {},
   "source": [
    "### Находим производную f(x):"
   ]
  },
  {
   "cell_type": "code",
   "execution_count": 60,
   "id": "260ec0cb-fb56-4fd1-8067-599a8156ab25",
   "metadata": {},
   "outputs": [
    {
     "name": "stdout",
     "output_type": "stream",
     "text": [
      "12*x**4*sin(x)*cos(cos(x)) - 48*x**3*sin(cos(x)) - 54*x**2 + 10*x + 10\n"
     ]
    }
   ],
   "source": [
    "print(diff(f(x), x))"
   ]
  },
  {
   "cell_type": "markdown",
   "id": "a68da833-58b5-4272-82d1-69922309c4da",
   "metadata": {},
   "source": [
    "### Находим интервалы:"
   ]
  },
  {
   "cell_type": "code",
   "execution_count": 89,
   "id": "f51fd1cd-8298-4f8a-a6fe-364ccf8eba4a",
   "metadata": {},
   "outputs": [
    {
     "name": "stdout",
     "output_type": "stream",
     "text": [
      "f(x) возрастает на интервалах:\n",
      "[31.62, 34.71] [37.87, 39.98]\n",
      "f(x) убывает на интервалах:\n",
      "[30.0, 31.6] [34.73, 37.85]\n"
     ]
    }
   ],
   "source": [
    "# Определяем производную функции:\n",
    "def d_f(x):\n",
    "    return 12*x**4*sin(x)*cos(cos(x)) - 48*x**3*sin(cos(x)) - 54*x**2 + 10*x + 10\n",
    "\n",
    "res2 = neg_pos_func(d_f, 30, 40, 100)\n",
    "print('f(x) возрастает на интервалах:')\n",
    "print(*res2[0])\n",
    "print('f(x) убывает на интервалах:')\n",
    "print(*res2[1])"
   ]
  },
  {
   "cell_type": "markdown",
   "id": "aab09e3d-5ea8-4a5c-81bf-d8a2cdd30243",
   "metadata": {
    "tags": []
   },
   "source": [
    "### Строим график производной на отрезке [30, 40]:"
   ]
  },
  {
   "cell_type": "code",
   "execution_count": 61,
   "id": "7826b1b3-679f-4daf-8186-70d81146e928",
   "metadata": {},
   "outputs": [
    {
     "data": {
      "image/png": "[encoded data removed]",
      "text/plain": [
       "<Figure size 1080x360 with 1 Axes>"
      ]
     },
     "metadata": {
      "needs_background": "light"
     },
     "output_type": "display_data"
    }
   ],
   "source": [
    "# Строим график производной:\n",
    "import numpy as np\n",
    "import matplotlib.pyplot as plt\n",
    "\n",
    "z = np.linspace(30, 40, 10000)\n",
    "def f2(x):\n",
    "    return (12*x**4*np.sin(x)*np.cos(np.cos(x)) - 48*x**3*np.sin(np.cos(x)) - 54*x**2 + 10*x + 10)\n",
    "\n",
    "fig, ax = plt.subplots(figsize = (15,5))\n",
    "\n",
    "plt.title('График')\n",
    "plt.xlabel('x')\n",
    "plt.ylabel('Y(x)')\n",
    "\n",
    "\n",
    "plt.plot(z, f2(z), label='Function_diff', color='red')\n",
    "plt.legend(loc='upper center')\n",
    "plt.grid()\n",
    "\n",
    "plt.show()"
   ]
  },
  {
   "cell_type": "markdown",
   "id": "929a0530-8631-4b54-9bb8-734026e21b04",
   "metadata": {
    "tags": []
   },
   "source": [
    "## 5. Вычислить вершину\n",
    "### Находим вершины функции методом дихотомии, при d_f = 0 на отрезках [30, 32], [34, 36], [36, 38]:"
   ]
  },
  {
   "cell_type": "code",
   "execution_count": 73,
   "id": "27a53721-f053-4ec0-9f7b-b327e6763985",
   "metadata": {},
   "outputs": [
    {
     "name": "stdout",
     "output_type": "stream",
     "text": [
      "Получены вершины в точках: \n",
      "30.00390625 34.00390625 37.00390625\n"
     ]
    }
   ],
   "source": [
    "# Определяем производную функции:\n",
    "def d_f(x):\n",
    "    return 12*x**4*sin(x)*cos(cos(x)) - 48*x**3*sin(cos(x)) - 54*x**2 + 10*x + 10\n",
    "\n",
    "top_intervals = [[30, 32], [34, 35], [37, 38]]\n",
    "\n",
    "top_list = [roots_search(d_f, i[0], i[1], 0.01) for i in extr_intervals]\n",
    "\n",
    "print('Получены вершины в точках: ')\n",
    "print(*top_list)\n",
    "\n",
    "# round(d_f(31.61408111846),5) - один из корней (найден вручную)"
   ]
  },
  {
   "cell_type": "markdown",
   "id": "8e9153f7-561c-4195-87cc-04bcf164d874",
   "metadata": {},
   "source": [
    "***Не находит корни для d_f = 0, пока не смог исправить. Хотя корни самой функции нашлись успешно***"
   ]
  }
 ],
 "metadata": {
  "kernelspec": {
   "display_name": "Python 3 (ipykernel)",
   "language": "python",
   "name": "python3"
  },
  "language_info": {
   "codemirror_mode": {
    "name": "ipython",
    "version": 3
   },
   "file_extension": ".py",
   "mimetype": "text/x-python",
   "name": "python",
   "nbconvert_exporter": "python",
   "pygments_lexer": "ipython3",
   "version": "3.9.12"
  }
 },
 "nbformat": 4,
 "nbformat_minor": 5
}
